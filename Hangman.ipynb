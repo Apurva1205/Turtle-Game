{
 "cells": [
  {
   "cell_type": "code",
   "execution_count": 1,
   "metadata": {},
   "outputs": [
    {
     "name": "stdout",
     "output_type": "stream",
     "text": [
      "____\n",
      "Lives: 6\n",
      "Guess a letter: j\n",
      "j___\n",
      "Lives: 6\n",
      "Guess a letter: a\n",
      "ja_a\n",
      "Lives: 6\n",
      "Guess a letter: v\n",
      "Congratulations! You guessed the word 'java'!\n"
     ]
    }
   ],
   "source": [
    "import random\n",
    "\n",
    "# List of words to choose from\n",
    "words = [\"python\", \"java\", \"ruby\", \"javascript\", \"html\", \"css\", \"php\", \"mysql\", \"mongodb\", \"django\"]\n",
    "\n",
    "# Choose a random word from the list\n",
    "word = random.choice(words)\n",
    "\n",
    "# Convert the chosen word into underscores\n",
    "word_letters = set(word)\n",
    "underscores = \"_\" * len(word)\n",
    "\n",
    "# Set up variables for tracking the game progress\n",
    "guesses = set()\n",
    "lives = 6\n",
    "\n",
    "# Main game loop\n",
    "while lives > 0 and \"_\" in underscores:\n",
    "    print(underscores)\n",
    "    print(f\"Lives: {lives}\")\n",
    "    guess = input(\"Guess a letter: \").lower()\n",
    "\n",
    "    if guess in guesses:\n",
    "        print(\"You've already guessed that letter!\")\n",
    "    elif guess in word_letters:\n",
    "        guesses.add(guess)\n",
    "        for i in range(len(word)):\n",
    "            if word[i] == guess:\n",
    "                underscores = underscores[:i] + guess + underscores[i+1:]\n",
    "    else:\n",
    "        guesses.add(guess)\n",
    "        lives -= 1\n",
    "        print(\"Wrong letter!\")\n",
    "\n",
    "if \"_\" not in underscores:\n",
    "    print(f\"Congratulations! You guessed the word '{word}'!\")\n",
    "else:\n",
    "    print(f\"Sorry, you lost. The word was '{word}'.\")\n"
   ]
  },
  {
   "cell_type": "code",
   "execution_count": 6,
   "metadata": {},
   "outputs": [],
   "source": []
  },
  {
   "cell_type": "code",
   "execution_count": null,
   "metadata": {},
   "outputs": [],
   "source": []
  }
 ],
 "metadata": {
  "kernelspec": {
   "display_name": "Python 3 (ipykernel)",
   "language": "python",
   "name": "python3"
  },
  "language_info": {
   "codemirror_mode": {
    "name": "ipython",
    "version": 3
   },
   "file_extension": ".py",
   "mimetype": "text/x-python",
   "name": "python",
   "nbconvert_exporter": "python",
   "pygments_lexer": "ipython3",
   "version": "3.9.13"
  }
 },
 "nbformat": 4,
 "nbformat_minor": 4
}

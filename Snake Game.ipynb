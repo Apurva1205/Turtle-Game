{
 "cells": [
  {
   "cell_type": "code",
   "execution_count": 1,
   "metadata": {},
   "outputs": [],
   "source": [
    "import turtle\n",
    "import time\n",
    "import random\n",
    "\n",
    "delay = 0.1\n",
    "\n",
    "# Set up the screen\n",
    "window = turtle.Screen()\n",
    "window.title(\"Snake Game\")\n",
    "window.bgcolor(\"green\")\n",
    "window.setup(width=600, height=600)\n",
    "\n",
    "# Create the snake head\n",
    "head = turtle.Turtle()\n",
    "head.shape(\"square\")\n",
    "head.color(\"black\")\n",
    "head.penup()\n",
    "head.goto(0, 0)\n",
    "head.direction = \"stop\"\n",
    "\n",
    "# Create the food\n",
    "food = turtle.Turtle()\n"
   ]
  },
  {
   "cell_type": "code",
   "execution_count": null,
   "metadata": {},
   "outputs": [],
   "source": []
  },
  {
   "cell_type": "code",
   "execution_count": null,
   "metadata": {},
   "outputs": [],
   "source": []
  }
 ],
 "metadata": {
  "kernelspec": {
   "display_name": "Python 3 (ipykernel)",
   "language": "python",
   "name": "python3"
  },
  "language_info": {
   "codemirror_mode": {
    "name": "ipython",
    "version": 3
   },
   "file_extension": ".py",
   "mimetype": "text/x-python",
   "name": "python",
   "nbconvert_exporter": "python",
   "pygments_lexer": "ipython3",
   "version": "3.9.13"
  }
 },
 "nbformat": 4,
 "nbformat_minor": 4
}
